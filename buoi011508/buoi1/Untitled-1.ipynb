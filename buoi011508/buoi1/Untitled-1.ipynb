{
 "cells": [
  {
   "cell_type": "code",
   "execution_count": 1,
   "id": "56df392f",
   "metadata": {},
   "outputs": [
    {
     "name": "stdout",
     "output_type": "stream",
     "text": [
      "Hello, World xin chào tui là Châu Đẹp Trai!\n"
     ]
    }
   ],
   "source": [
    "print(\"Hello, World xin chào tui là Châu Đẹp Trai!\")"
   ]
  },
  {
   "cell_type": "code",
   "execution_count": 1,
   "id": "0f6b5179",
   "metadata": {},
   "outputs": [
    {
     "ename": "ModuleNotFoundError",
     "evalue": "No module named 'machine'",
     "output_type": "error",
     "traceback": [
      "\u001b[31m---------------------------------------------------------------------------\u001b[39m",
      "\u001b[31mModuleNotFoundError\u001b[39m                       Traceback (most recent call last)",
      "\u001b[36mCell\u001b[39m\u001b[36m \u001b[39m\u001b[32mIn[1]\u001b[39m\u001b[32m, line 1\u001b[39m\n\u001b[32m----> \u001b[39m\u001b[32m1\u001b[39m \u001b[38;5;28;01mfrom\u001b[39;00m\u001b[38;5;250m \u001b[39m\u001b[34;01mmachine\u001b[39;00m\u001b[38;5;250m \u001b[39m\u001b[38;5;28;01mimport\u001b[39;00m Pin, PWM, time_pulse_us\n\u001b[32m      2\u001b[39m \u001b[38;5;28;01mimport\u001b[39;00m\u001b[38;5;250m \u001b[39m\u001b[34;01mtime\u001b[39;00m\n\u001b[32m      4\u001b[39m motor1_forward = Pin(\u001b[32m14\u001b[39m, Pin.OUT)\n",
      "\u001b[31mModuleNotFoundError\u001b[39m: No module named 'machine'"
     ]
    }
   ],
   "source": [
    "from machine import Pin, PWM, time_pulse_us\n",
    "import time\n",
    "\n",
    "motor1_forward = Pin(14, Pin.OUT)\n",
    "motor1_backward = Pin(27, Pin.OUT)\n",
    "motor2_forward = Pin(26, Pin.OUT)\n",
    "motor2_backward = Pin(25, Pin.OUT)\n",
    "\n",
    "trig = Pin(5, Pin.OUT)\n",
    "echo = Pin(18, Pin.IN)\n",
    "\n",
    "def forward():\n",
    "    motor1_forward.on()\n",
    "    motor1_backward.off()\n",
    "    motor2_forward.on()\n",
    "    motor2_backward.off()\n",
    "\n",
    "def stop():\n",
    "    motor1_forward.off()\n",
    "    motor1_backward.off()\n",
    "    motor2_forward.off()\n",
    "    motor2_backward.off()\n",
    "\n",
    "def get_distance():\n",
    "    trig.off()\n",
    "    time.sleep_us(2)\n",
    "    trig.on()\n",
    "    time.sleep_us(10)\n",
    "    trig.off()\n",
    "    duration = time_pulse_us(echo, 1, 30000)\n",
    "    return duration * 0.0343 / 2\n",
    "\n",
    "while True:\n",
    "    if get_distance() > 15:\n",
    "        forward()\n",
    "    else:\n",
    "        stop()\n",
    "    time.sleep(0.1)\n"
   ]
  }
 ],
 "metadata": {
  "kernelspec": {
   "display_name": "Python 3 (ipykernel)",
   "language": "python",
   "name": "python3"
  },
  "language_info": {
   "codemirror_mode": {
    "name": "ipython",
    "version": 3
   },
   "file_extension": ".py",
   "mimetype": "text/x-python",
   "name": "python",
   "nbconvert_exporter": "python",
   "pygments_lexer": "ipython3",
   "version": "3.12.1"
  }
 },
 "nbformat": 4,
 "nbformat_minor": 5
}
